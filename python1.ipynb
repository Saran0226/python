{
 "cells": [
  {
   "cell_type": "code",
   "execution_count": 3,
   "id": "4630e339-0f2f-47fc-9a85-4e10318116e3",
   "metadata": {},
   "outputs": [
    {
     "name": "stdin",
     "output_type": "stream",
     "text": [
      "enter the first number: 5\n",
      "enter the second number: 2\n"
     ]
    },
    {
     "name": "stdout",
     "output_type": "stream",
     "text": [
      "GCD: 1\n"
     ]
    }
   ],
   "source": [
    "def gcd (a,b):\n",
    "    if b==0:\n",
    "        return a\n",
    "\n",
    "    else:\n",
    "        return gcd(b, a%b)\n",
    "\n",
    "x = int(input(\"enter the first number:\"))\n",
    "y = int(input(\"enter the second number:\"))\n",
    "print(\"GCD:\", gcd(x,y))"
   ]
  },
  {
   "cell_type": "code",
   "execution_count": null,
   "id": "c6f61c56-b72a-498b-9c16-4563180a6d5a",
   "metadata": {},
   "outputs": [],
   "source": []
  }
 ],
 "metadata": {
  "kernelspec": {
   "display_name": "Python 3 (ipykernel)",
   "language": "python",
   "name": "python3"
  },
  "language_info": {
   "codemirror_mode": {
    "name": "ipython",
    "version": 3
   },
   "file_extension": ".py",
   "mimetype": "text/x-python",
   "name": "python",
   "nbconvert_exporter": "python",
   "pygments_lexer": "ipython3",
   "version": "3.12.4"
  }
 },
 "nbformat": 4,
 "nbformat_minor": 5
}
