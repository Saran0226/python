{
 "cells": [
  {
   "cell_type": "code",
   "execution_count": 3,
   "id": "7416c43d-e8bd-4284-9697-42e854867be1",
   "metadata": {},
   "outputs": [
    {
     "name": "stdout",
     "output_type": "stream",
     "text": [
      "minimum value is: 1\n",
      "maximum value is: 9\n"
     ]
    }
   ],
   "source": [
    "numbers =[5,2,6,1,9]\n",
    "min_value=numbers[0]\n",
    "\n",
    "for num in numbers:\n",
    "    if num<min_value:\n",
    "        min_value=num\n",
    "\n",
    "print(\"minimum value is:\",min_value)\n",
    "max_value= numbers[0]\n",
    "\n",
    "for num in numbers:\n",
    "    if num > max_value:\n",
    "        max_value=num\n",
    "\n",
    "print(\"maximum value is:\", max_value)"
   ]
  },
  {
   "cell_type": "code",
   "execution_count": null,
   "id": "56c183ee-3b17-4a2d-b27e-0a0d7d707e89",
   "metadata": {},
   "outputs": [],
   "source": []
  }
 ],
 "metadata": {
  "kernelspec": {
   "display_name": "Python 3 (ipykernel)",
   "language": "python",
   "name": "python3"
  },
  "language_info": {
   "codemirror_mode": {
    "name": "ipython",
    "version": 3
   },
   "file_extension": ".py",
   "mimetype": "text/x-python",
   "name": "python",
   "nbconvert_exporter": "python",
   "pygments_lexer": "ipython3",
   "version": "3.12.4"
  }
 },
 "nbformat": 4,
 "nbformat_minor": 5
}
