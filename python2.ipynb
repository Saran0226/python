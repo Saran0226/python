{
 "cells": [
  {
   "cell_type": "code",
   "execution_count": 7,
   "id": "260d3e84-73ae-4675-9de4-e5a8c57414d8",
   "metadata": {},
   "outputs": [
    {
     "name": "stdin",
     "output_type": "stream",
     "text": [
      "Enter the number to search: 34\n"
     ]
    },
    {
     "name": "stdout",
     "output_type": "stream",
     "text": [
      "Element(target) found at index 0\n"
     ]
    }
   ],
   "source": [
    "def linear_search (arr, target):\n",
    "    for i in range (len (arr)):\n",
    "        if arr [i] == target:\n",
    "            return i\n",
    "\n",
    "    return -1\n",
    "arr = [34,23,1,56,89,122,65]\n",
    "\n",
    "target = int(input (\"Enter the number to search:\"))\n",
    "\n",
    "result = linear_search (arr, target)\n",
    "\n",
    "if result!=-1:\n",
    "    print (f\"Element(target) found at index\", result)\n",
    "\n",
    "else:\n",
    "    print(f\"Element (target) not found in index\", result)"
   ]
  },
  {
   "cell_type": "code",
   "execution_count": null,
   "id": "dfd70dba-368f-4d4d-9c61-0b4ed0e9346d",
   "metadata": {},
   "outputs": [],
   "source": []
  }
 ],
 "metadata": {
  "kernelspec": {
   "display_name": "Python 3 (ipykernel)",
   "language": "python",
   "name": "python3"
  },
  "language_info": {
   "codemirror_mode": {
    "name": "ipython",
    "version": 3
   },
   "file_extension": ".py",
   "mimetype": "text/x-python",
   "name": "python",
   "nbconvert_exporter": "python",
   "pygments_lexer": "ipython3",
   "version": "3.12.4"
  }
 },
 "nbformat": 4,
 "nbformat_minor": 5
}
